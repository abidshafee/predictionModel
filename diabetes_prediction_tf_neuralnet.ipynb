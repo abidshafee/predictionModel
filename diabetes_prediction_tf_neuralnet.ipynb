{
  "cells": [
    {
      "cell_type": "markdown",
      "metadata": {
        "colab_type": "text",
        "id": "view-in-github"
      },
      "source": [
        "<a href=\"https://colab.research.google.com/github/abidshafee/predictionModel/blob/master/diabetes_prediction_tf_neuralnet.ipynb\" target=\"_parent\"><img src=\"https://colab.research.google.com/assets/colab-badge.svg\" alt=\"Open In Colab\"/></a>"
      ]
    },
    {
      "cell_type": "code",
      "execution_count": 1,
      "metadata": {
        "id": "HYWH_gBoXCFg"
      },
      "outputs": [],
      "source": [
        "csv_data = 'https://raw.githubusercontent.com/abidshafee/predictionModel/master/diabetes.csv'"
      ]
    },
    {
      "cell_type": "code",
      "execution_count": 41,
      "metadata": {
        "id": "pzkUV7ZZXilH"
      },
      "outputs": [],
      "source": [
        "import numpy as np\n",
        "import pandas as pd\n",
        "import tensorflow as tf\n",
        "from sklearn.model_selection import train_test_split\n",
        "from sklearn.preprocessing import StandardScaler\n",
        "import matplotlib.pyplot as plt\n",
        "import seaborn as sns"
      ]
    },
    {
      "cell_type": "code",
      "execution_count": 3,
      "metadata": {
        "id": "-290DGbzdmZw"
      },
      "outputs": [],
      "source": [
        "df = pd.read_csv(csv_data)"
      ]
    },
    {
      "cell_type": "code",
      "execution_count": 4,
      "metadata": {
        "colab": {
          "base_uri": "https://localhost:8080/",
          "height": 206
        },
        "id": "Bn7DEH6Xhufe",
        "outputId": "8ed6ac0c-06d9-4657-b0a3-75ba423ed13e"
      },
      "outputs": [
        {
          "data": {
            "text/html": [
              "<div>\n",
              "<style scoped>\n",
              "    .dataframe tbody tr th:only-of-type {\n",
              "        vertical-align: middle;\n",
              "    }\n",
              "\n",
              "    .dataframe tbody tr th {\n",
              "        vertical-align: top;\n",
              "    }\n",
              "\n",
              "    .dataframe thead th {\n",
              "        text-align: right;\n",
              "    }\n",
              "</style>\n",
              "<table border=\"1\" class=\"dataframe\">\n",
              "  <thead>\n",
              "    <tr style=\"text-align: right;\">\n",
              "      <th></th>\n",
              "      <th>Pregnancies</th>\n",
              "      <th>Glucose</th>\n",
              "      <th>BloodPressure</th>\n",
              "      <th>SkinThickness</th>\n",
              "      <th>Insulin</th>\n",
              "      <th>BMI</th>\n",
              "      <th>DiabetesPedigreeFunction</th>\n",
              "      <th>Age</th>\n",
              "      <th>Outcome</th>\n",
              "    </tr>\n",
              "  </thead>\n",
              "  <tbody>\n",
              "    <tr>\n",
              "      <th>0</th>\n",
              "      <td>6</td>\n",
              "      <td>148</td>\n",
              "      <td>72</td>\n",
              "      <td>35</td>\n",
              "      <td>0</td>\n",
              "      <td>33.6</td>\n",
              "      <td>0.627</td>\n",
              "      <td>50</td>\n",
              "      <td>1</td>\n",
              "    </tr>\n",
              "    <tr>\n",
              "      <th>1</th>\n",
              "      <td>1</td>\n",
              "      <td>85</td>\n",
              "      <td>66</td>\n",
              "      <td>29</td>\n",
              "      <td>0</td>\n",
              "      <td>26.6</td>\n",
              "      <td>0.351</td>\n",
              "      <td>31</td>\n",
              "      <td>0</td>\n",
              "    </tr>\n",
              "    <tr>\n",
              "      <th>2</th>\n",
              "      <td>8</td>\n",
              "      <td>183</td>\n",
              "      <td>64</td>\n",
              "      <td>0</td>\n",
              "      <td>0</td>\n",
              "      <td>23.3</td>\n",
              "      <td>0.672</td>\n",
              "      <td>32</td>\n",
              "      <td>1</td>\n",
              "    </tr>\n",
              "    <tr>\n",
              "      <th>3</th>\n",
              "      <td>1</td>\n",
              "      <td>89</td>\n",
              "      <td>66</td>\n",
              "      <td>23</td>\n",
              "      <td>94</td>\n",
              "      <td>28.1</td>\n",
              "      <td>0.167</td>\n",
              "      <td>21</td>\n",
              "      <td>0</td>\n",
              "    </tr>\n",
              "    <tr>\n",
              "      <th>4</th>\n",
              "      <td>0</td>\n",
              "      <td>137</td>\n",
              "      <td>40</td>\n",
              "      <td>35</td>\n",
              "      <td>168</td>\n",
              "      <td>43.1</td>\n",
              "      <td>2.288</td>\n",
              "      <td>33</td>\n",
              "      <td>1</td>\n",
              "    </tr>\n",
              "  </tbody>\n",
              "</table>\n",
              "</div>"
            ],
            "text/plain": [
              "   Pregnancies  Glucose  BloodPressure  SkinThickness  Insulin   BMI  \\\n",
              "0            6      148             72             35        0  33.6   \n",
              "1            1       85             66             29        0  26.6   \n",
              "2            8      183             64              0        0  23.3   \n",
              "3            1       89             66             23       94  28.1   \n",
              "4            0      137             40             35      168  43.1   \n",
              "\n",
              "   DiabetesPedigreeFunction  Age  Outcome  \n",
              "0                     0.627   50        1  \n",
              "1                     0.351   31        0  \n",
              "2                     0.672   32        1  \n",
              "3                     0.167   21        0  \n",
              "4                     2.288   33        1  "
            ]
          },
          "execution_count": 4,
          "metadata": {},
          "output_type": "execute_result"
        }
      ],
      "source": [
        "df.head()"
      ]
    },
    {
      "cell_type": "code",
      "execution_count": 5,
      "metadata": {
        "colab": {
          "base_uri": "https://localhost:8080/"
        },
        "id": "4h2D83Ibhy-7",
        "outputId": "dd850035-86b8-480a-9306-8fd04a002d42"
      },
      "outputs": [
        {
          "data": {
            "text/plain": [
              "Index(['Pregnancies', 'Glucose', 'BloodPressure', 'SkinThickness', 'Insulin',\n",
              "       'BMI', 'DiabetesPedigreeFunction', 'Age', 'Outcome'],\n",
              "      dtype='object')"
            ]
          },
          "execution_count": 5,
          "metadata": {},
          "output_type": "execute_result"
        }
      ],
      "source": [
        "df.columns"
      ]
    },
    {
      "cell_type": "code",
      "execution_count": 6,
      "metadata": {
        "colab": {
          "base_uri": "https://localhost:8080/"
        },
        "id": "5SQ_QKDEikju",
        "outputId": "62a7d32b-81e2-4208-9744-d92f721d3dcd"
      },
      "outputs": [
        {
          "data": {
            "text/plain": [
              "Index(['Pregnancies', 'Glucose', 'BloodPressure', 'SkinThickness', 'Insulin',\n",
              "       'BMI', 'DiabetesPedigreeFunction', 'Age'],\n",
              "      dtype='object')"
            ]
          },
          "execution_count": 6,
          "metadata": {},
          "output_type": "execute_result"
        }
      ],
      "source": [
        "df.columns[:-1] #all columns excluding the Outcome"
      ]
    },
    {
      "cell_type": "code",
      "execution_count": 7,
      "metadata": {
        "colab": {
          "base_uri": "https://localhost:8080/"
        },
        "id": "CDR4bZdwiRGE",
        "outputId": "5e37fde9-7a35-406e-b4f3-ef1b682c0cb4"
      },
      "outputs": [
        {
          "data": {
            "text/plain": [
              "8"
            ]
          },
          "execution_count": 7,
          "metadata": {},
          "output_type": "execute_result"
        }
      ],
      "source": [
        "len(df.columns[:-1])"
      ]
    },
    {
      "cell_type": "code",
      "execution_count": 8,
      "metadata": {
        "colab": {
          "base_uri": "https://localhost:8080/",
          "height": 424
        },
        "id": "cy9emsoria3V",
        "outputId": "441c2f8b-acd4-432a-83e7-24d96cb7d42e"
      },
      "outputs": [
        {
          "data": {
            "text/html": [
              "<div>\n",
              "<style scoped>\n",
              "    .dataframe tbody tr th:only-of-type {\n",
              "        vertical-align: middle;\n",
              "    }\n",
              "\n",
              "    .dataframe tbody tr th {\n",
              "        vertical-align: top;\n",
              "    }\n",
              "\n",
              "    .dataframe thead th {\n",
              "        text-align: right;\n",
              "    }\n",
              "</style>\n",
              "<table border=\"1\" class=\"dataframe\">\n",
              "  <thead>\n",
              "    <tr style=\"text-align: right;\">\n",
              "      <th></th>\n",
              "      <th>Pregnancies</th>\n",
              "      <th>Glucose</th>\n",
              "      <th>BloodPressure</th>\n",
              "      <th>SkinThickness</th>\n",
              "      <th>Insulin</th>\n",
              "      <th>BMI</th>\n",
              "      <th>DiabetesPedigreeFunction</th>\n",
              "      <th>Age</th>\n",
              "      <th>Outcome</th>\n",
              "    </tr>\n",
              "  </thead>\n",
              "  <tbody>\n",
              "    <tr>\n",
              "      <th>0</th>\n",
              "      <td>6</td>\n",
              "      <td>148</td>\n",
              "      <td>72</td>\n",
              "      <td>35</td>\n",
              "      <td>0</td>\n",
              "      <td>33.6</td>\n",
              "      <td>0.627</td>\n",
              "      <td>50</td>\n",
              "      <td>1</td>\n",
              "    </tr>\n",
              "    <tr>\n",
              "      <th>2</th>\n",
              "      <td>8</td>\n",
              "      <td>183</td>\n",
              "      <td>64</td>\n",
              "      <td>0</td>\n",
              "      <td>0</td>\n",
              "      <td>23.3</td>\n",
              "      <td>0.672</td>\n",
              "      <td>32</td>\n",
              "      <td>1</td>\n",
              "    </tr>\n",
              "    <tr>\n",
              "      <th>4</th>\n",
              "      <td>0</td>\n",
              "      <td>137</td>\n",
              "      <td>40</td>\n",
              "      <td>35</td>\n",
              "      <td>168</td>\n",
              "      <td>43.1</td>\n",
              "      <td>2.288</td>\n",
              "      <td>33</td>\n",
              "      <td>1</td>\n",
              "    </tr>\n",
              "    <tr>\n",
              "      <th>6</th>\n",
              "      <td>3</td>\n",
              "      <td>78</td>\n",
              "      <td>50</td>\n",
              "      <td>32</td>\n",
              "      <td>88</td>\n",
              "      <td>31.0</td>\n",
              "      <td>0.248</td>\n",
              "      <td>26</td>\n",
              "      <td>1</td>\n",
              "    </tr>\n",
              "    <tr>\n",
              "      <th>8</th>\n",
              "      <td>2</td>\n",
              "      <td>197</td>\n",
              "      <td>70</td>\n",
              "      <td>45</td>\n",
              "      <td>543</td>\n",
              "      <td>30.5</td>\n",
              "      <td>0.158</td>\n",
              "      <td>53</td>\n",
              "      <td>1</td>\n",
              "    </tr>\n",
              "    <tr>\n",
              "      <th>...</th>\n",
              "      <td>...</td>\n",
              "      <td>...</td>\n",
              "      <td>...</td>\n",
              "      <td>...</td>\n",
              "      <td>...</td>\n",
              "      <td>...</td>\n",
              "      <td>...</td>\n",
              "      <td>...</td>\n",
              "      <td>...</td>\n",
              "    </tr>\n",
              "    <tr>\n",
              "      <th>755</th>\n",
              "      <td>1</td>\n",
              "      <td>128</td>\n",
              "      <td>88</td>\n",
              "      <td>39</td>\n",
              "      <td>110</td>\n",
              "      <td>36.5</td>\n",
              "      <td>1.057</td>\n",
              "      <td>37</td>\n",
              "      <td>1</td>\n",
              "    </tr>\n",
              "    <tr>\n",
              "      <th>757</th>\n",
              "      <td>0</td>\n",
              "      <td>123</td>\n",
              "      <td>72</td>\n",
              "      <td>0</td>\n",
              "      <td>0</td>\n",
              "      <td>36.3</td>\n",
              "      <td>0.258</td>\n",
              "      <td>52</td>\n",
              "      <td>1</td>\n",
              "    </tr>\n",
              "    <tr>\n",
              "      <th>759</th>\n",
              "      <td>6</td>\n",
              "      <td>190</td>\n",
              "      <td>92</td>\n",
              "      <td>0</td>\n",
              "      <td>0</td>\n",
              "      <td>35.5</td>\n",
              "      <td>0.278</td>\n",
              "      <td>66</td>\n",
              "      <td>1</td>\n",
              "    </tr>\n",
              "    <tr>\n",
              "      <th>761</th>\n",
              "      <td>9</td>\n",
              "      <td>170</td>\n",
              "      <td>74</td>\n",
              "      <td>31</td>\n",
              "      <td>0</td>\n",
              "      <td>44.0</td>\n",
              "      <td>0.403</td>\n",
              "      <td>43</td>\n",
              "      <td>1</td>\n",
              "    </tr>\n",
              "    <tr>\n",
              "      <th>766</th>\n",
              "      <td>1</td>\n",
              "      <td>126</td>\n",
              "      <td>60</td>\n",
              "      <td>0</td>\n",
              "      <td>0</td>\n",
              "      <td>30.1</td>\n",
              "      <td>0.349</td>\n",
              "      <td>47</td>\n",
              "      <td>1</td>\n",
              "    </tr>\n",
              "  </tbody>\n",
              "</table>\n",
              "<p>268 rows × 9 columns</p>\n",
              "</div>"
            ],
            "text/plain": [
              "     Pregnancies  Glucose  BloodPressure  SkinThickness  Insulin   BMI  \\\n",
              "0              6      148             72             35        0  33.6   \n",
              "2              8      183             64              0        0  23.3   \n",
              "4              0      137             40             35      168  43.1   \n",
              "6              3       78             50             32       88  31.0   \n",
              "8              2      197             70             45      543  30.5   \n",
              "..           ...      ...            ...            ...      ...   ...   \n",
              "755            1      128             88             39      110  36.5   \n",
              "757            0      123             72              0        0  36.3   \n",
              "759            6      190             92              0        0  35.5   \n",
              "761            9      170             74             31        0  44.0   \n",
              "766            1      126             60              0        0  30.1   \n",
              "\n",
              "     DiabetesPedigreeFunction  Age  Outcome  \n",
              "0                       0.627   50        1  \n",
              "2                       0.672   32        1  \n",
              "4                       2.288   33        1  \n",
              "6                       0.248   26        1  \n",
              "8                       0.158   53        1  \n",
              "..                        ...  ...      ...  \n",
              "755                     1.057   37        1  \n",
              "757                     0.258   52        1  \n",
              "759                     0.278   66        1  \n",
              "761                     0.403   43        1  \n",
              "766                     0.349   47        1  \n",
              "\n",
              "[268 rows x 9 columns]"
            ]
          },
          "execution_count": 8,
          "metadata": {},
          "output_type": "execute_result"
        }
      ],
      "source": [
        "df[df['Outcome']==1] # return a dataframe where Outcome is 1"
      ]
    },
    {
      "cell_type": "code",
      "execution_count": 49,
      "metadata": {},
      "outputs": [
        {
          "data": {
            "text/plain": [
              "(768, 9)"
            ]
          },
          "execution_count": 49,
          "metadata": {},
          "output_type": "execute_result"
        }
      ],
      "source": [
        "df.shape"
      ]
    },
    {
      "cell_type": "markdown",
      "metadata": {},
      "source": [
        "### Detecting Univariate Outliar"
      ]
    },
    {
      "cell_type": "code",
      "execution_count": 42,
      "metadata": {},
      "outputs": [
        {
          "name": "stderr",
          "output_type": "stream",
          "text": [
            "c:\\Python38\\lib\\site-packages\\seaborn\\distributions.py:2619: FutureWarning: `distplot` is a deprecated function and will be removed in a future version. Please adapt your code to use either `displot` (a figure-level function with similar flexibility) or `histplot` (an axes-level function for histograms).\n",
            "  warnings.warn(msg, FutureWarning)\n"
          ]
        },
        {
          "data": {
            "text/plain": [
              "<AxesSubplot:xlabel='BloodPressure', ylabel='Density'>"
            ]
          },
          "execution_count": 42,
          "metadata": {},
          "output_type": "execute_result"
        },
        {
          "data": {
            "image/png": "[encoded data removed]",
            "text/plain": [
              "<Figure size 432x288 with 1 Axes>"
            ]
          },
          "metadata": {
            "needs_background": "light"
          },
          "output_type": "display_data"
        }
      ],
      "source": [
        "#distribution plot\n",
        "sns.distplot(df[df.columns[2]])"
      ]
    },
    {
      "cell_type": "code",
      "execution_count": 48,
      "metadata": {},
      "outputs": [
        {
          "name": "stderr",
          "output_type": "stream",
          "text": [
            "c:\\Python38\\lib\\site-packages\\seaborn\\categorical.py:1296: UserWarning: 24.5% of the points cannot be placed; you may want to decrease the size of the markers or use stripplot.\n",
            "  warnings.warn(msg, UserWarning)\n"
          ]
        },
        {
          "data": {
            "text/plain": [
              "<AxesSubplot:xlabel='SkinThickness'>"
            ]
          },
          "execution_count": 48,
          "metadata": {},
          "output_type": "execute_result"
        },
        {
          "data": {
            "image/png": "[encoded data removed]",
            "text/plain": [
              "<Figure size 864x338.4 with 1 Axes>"
            ]
          },
          "metadata": {
            "needs_background": "light"
          },
          "output_type": "display_data"
        }
      ],
      "source": [
        "#Univariate outliers boxplot\n",
        "ax = plt.subplots(figsize=(12, 4.7))\n",
        "sns.boxplot(x=df[df.columns[3]], data=df, hue='Outcome', linewidth=2.5, orient=\"h\", palette=\"Blues\")\n",
        "sns.swarmplot(x=df[df.columns[3]], color=\".25\")"
      ]
    },
    {
      "cell_type": "code",
      "execution_count": 43,
      "metadata": {},
      "outputs": [
        {
          "data": {
            "text/plain": [
              "<seaborn.axisgrid.FacetGrid at 0x1e6c174a4c0>"
            ]
          },
          "execution_count": 43,
          "metadata": {},
          "output_type": "execute_result"
        },
        {
          "data": {
            "image/png": "[encoded data removed]",
            "text/plain": [
              "<Figure size 360x360 with 1 Axes>"
            ]
          },
          "metadata": {
            "needs_background": "light"
          },
          "output_type": "display_data"
        }
      ],
      "source": [
        "sns.displot(df[df.columns[2]], legend=True)"
      ]
    },
    {
      "cell_type": "markdown",
      "metadata": {
        "id": "pcguPKr5odrh"
      },
      "source": [
        "### Class-wise Data Distribution"
      ]
    },
    {
      "cell_type": "code",
      "execution_count": 9,
      "metadata": {
        "colab": {
          "base_uri": "https://localhost:8080/",
          "height": 1000
        },
        "id": "xb3N6CuQjXaN",
        "outputId": "47de414b-6ec8-42bc-d391-91708339b323"
      },
      "outputs": [
        {
          "data": {
            "image/png": "[encoded data removed]",
            "text/plain": [
              "<Figure size 432x288 with 1 Axes>"
            ]
          },
          "metadata": {
            "needs_background": "light"
          },
          "output_type": "display_data"
        },
        {
          "data": {
            "image/png": "[encoded data removed]",
            "text/plain": [
              "<Figure size 432x288 with 1 Axes>"
            ]
          },
          "metadata": {
            "needs_background": "light"
          },
          "output_type": "display_data"
        },
        {
          "data": {
            "image/png": "[encoded data removed]",
            "text/plain": [
              "<Figure size 432x288 with 1 Axes>"
            ]
          },
          "metadata": {
            "needs_background": "light"
          },
          "output_type": "display_data"
        },
        {
          "data": {
            "image/png": "[encoded data removed]",
            "text/plain": [
              "<Figure size 432x288 with 1 Axes>"
            ]
          },
          "metadata": {
            "needs_background": "light"
          },
          "output_type": "display_data"
        },
        {
          "data": {
            "image/png": "[encoded data removed]",
            "text/plain": [
              "<Figure size 432x288 with 1 Axes>"
            ]
          },
          "metadata": {
            "needs_background": "light"
          },
          "output_type": "display_data"
        },
        {
          "data": {
            "image/png": "[encoded data removed]",
            "text/plain": [
              "<Figure size 432x288 with 1 Axes>"
            ]
          },
          "metadata": {
            "needs_background": "light"
          },
          "output_type": "display_data"
        },
        {
          "data": {
            "image/png": "[encoded data removed]",
            "text/plain": [
              "<Figure size 432x288 with 1 Axes>"
            ]
          },
          "metadata": {
            "needs_background": "light"
          },
          "output_type": "display_data"
        },
        {
          "data": {
            "image/png": "[encoded data removed]",
            "text/plain": [
              "<Figure size 432x288 with 1 Axes>"
            ]
          },
          "metadata": {
            "needs_background": "light"
          },
          "output_type": "display_data"
        }
      ],
      "source": [
        "for i in range(len(df.columns[:-1])):\n",
        "  label = df.columns[i]\n",
        "  plt.hist(df[df['Outcome']==1][label], color='red', label='Diabetes', alpha=0.8)\n",
        "  plt.hist(df[df['Outcome']==0][label], color='yellow', label='No Diabetes', alpha = 0.9)\n",
        "  plt.title(label)\n",
        "  plt.xlabel(label)\n",
        "  plt.ylabel('Probability')\n",
        "  plt.legend()\n",
        "  plt.show()"
      ]
    },
    {
      "cell_type": "code",
      "execution_count": 10,
      "metadata": {
        "colab": {
          "base_uri": "https://localhost:8080/"
        },
        "id": "QyRTnKxAkxfI",
        "outputId": "91a1ee86-f665-47f4-8b93-cd35b4d76d8f"
      },
      "outputs": [
        {
          "data": {
            "text/plain": [
              "(268, 500)"
            ]
          },
          "execution_count": 10,
          "metadata": {},
          "output_type": "execute_result"
        }
      ],
      "source": [
        "len(df[df['Outcome']==1]), len(df[df['Outcome']==0])"
      ]
    },
    {
      "cell_type": "code",
      "execution_count": 11,
      "metadata": {
        "id": "mf2-rZaWpygf"
      },
      "outputs": [],
      "source": [
        "X = df.iloc[:, 0:-1].values"
      ]
    },
    {
      "cell_type": "code",
      "execution_count": 12,
      "metadata": {
        "colab": {
          "base_uri": "https://localhost:8080/"
        },
        "id": "LbHrciaPsfBi",
        "outputId": "274d982f-5b71-4732-f6de-561beeec75ba"
      },
      "outputs": [
        {
          "data": {
            "text/plain": [
              "array([[  6.   , 148.   ,  72.   , ...,  33.6  ,   0.627,  50.   ],\n",
              "       [  1.   ,  85.   ,  66.   , ...,  26.6  ,   0.351,  31.   ],\n",
              "       [  8.   , 183.   ,  64.   , ...,  23.3  ,   0.672,  32.   ],\n",
              "       ...,\n",
              "       [  5.   , 121.   ,  72.   , ...,  26.2  ,   0.245,  30.   ],\n",
              "       [  1.   , 126.   ,  60.   , ...,  30.1  ,   0.349,  47.   ],\n",
              "       [  1.   ,  93.   ,  70.   , ...,  30.4  ,   0.315,  23.   ]])"
            ]
          },
          "execution_count": 12,
          "metadata": {},
          "output_type": "execute_result"
        }
      ],
      "source": [
        "X"
      ]
    },
    {
      "cell_type": "code",
      "execution_count": 13,
      "metadata": {
        "id": "pabFdXBEshLt"
      },
      "outputs": [],
      "source": [
        "y = df.iloc[:,-1].values"
      ]
    },
    {
      "cell_type": "code",
      "execution_count": 14,
      "metadata": {
        "colab": {
          "base_uri": "https://localhost:8080/"
        },
        "id": "2DnLkiPZtHFW",
        "outputId": "8f1f8b89-0859-4983-a370-a85a8beff655"
      },
      "outputs": [
        {
          "data": {
            "text/plain": [
              "array([1, 0, 1, 0, 1, 0, 1, 0, 1, 1, 0, 1, 0, 1, 1, 1, 1, 1, 0, 1, 0, 0,\n",
              "       1, 1, 1, 1, 1, 0, 0, 0, 0, 1, 0, 0, 0, 0, 0, 1, 1, 1, 0, 0, 0, 1,\n",
              "       0, 1, 0, 0, 1, 0, 0, 0, 0, 1, 0, 0, 1, 0, 0, 0, 0, 1, 0, 0, 1, 0,\n",
              "       1, 0, 0, 0, 1, 0, 1, 0, 0, 0, 0, 0, 1, 0, 0, 0, 0, 0, 1, 0, 0, 0,\n",
              "       1, 0, 0, 0, 0, 1, 0, 0, 0, 0, 0, 1, 1, 0, 0, 0, 0, 0, 0, 0, 0, 1,\n",
              "       1, 1, 0, 0, 1, 1, 1, 0, 0, 0, 1, 0, 0, 0, 1, 1, 0, 0, 1, 1, 1, 1,\n",
              "       1, 0, 0, 0, 0, 0, 0, 0, 0, 0, 0, 1, 0, 0, 0, 0, 0, 0, 0, 0, 1, 0,\n",
              "       1, 1, 0, 0, 0, 1, 0, 0, 0, 0, 1, 1, 0, 0, 0, 0, 1, 1, 0, 0, 0, 1,\n",
              "       0, 1, 0, 1, 0, 0, 0, 0, 0, 1, 1, 1, 1, 1, 0, 0, 1, 1, 0, 1, 0, 1,\n",
              "       1, 1, 0, 0, 0, 0, 0, 0, 1, 1, 0, 1, 0, 0, 0, 1, 1, 1, 1, 0, 1, 1,\n",
              "       1, 1, 0, 0, 0, 0, 0, 1, 0, 0, 1, 1, 0, 0, 0, 1, 1, 1, 1, 0, 0, 0,\n",
              "       1, 1, 0, 1, 0, 0, 0, 0, 0, 0, 0, 0, 1, 1, 0, 0, 0, 1, 0, 1, 0, 0,\n",
              "       1, 0, 1, 0, 0, 1, 1, 0, 0, 0, 0, 0, 1, 0, 0, 0, 1, 0, 0, 1, 1, 0,\n",
              "       0, 1, 0, 0, 0, 1, 1, 1, 0, 0, 1, 0, 1, 0, 1, 1, 0, 1, 0, 0, 1, 0,\n",
              "       1, 1, 0, 0, 1, 0, 1, 0, 0, 1, 0, 1, 0, 1, 1, 1, 0, 0, 1, 0, 1, 0,\n",
              "       0, 0, 1, 0, 0, 0, 0, 1, 1, 1, 0, 0, 0, 0, 0, 0, 0, 0, 0, 1, 0, 0,\n",
              "       0, 0, 0, 1, 1, 1, 0, 1, 1, 0, 0, 1, 0, 0, 1, 0, 0, 1, 1, 0, 0, 0,\n",
              "       0, 1, 0, 0, 1, 0, 0, 0, 0, 0, 0, 0, 1, 1, 1, 0, 0, 1, 0, 0, 1, 0,\n",
              "       0, 1, 0, 1, 1, 0, 1, 0, 1, 0, 1, 0, 1, 1, 0, 0, 0, 0, 1, 1, 0, 1,\n",
              "       0, 1, 0, 0, 0, 0, 1, 1, 0, 1, 0, 1, 0, 0, 0, 0, 0, 1, 0, 0, 0, 0,\n",
              "       1, 0, 0, 1, 1, 1, 0, 0, 1, 0, 0, 1, 0, 0, 0, 1, 0, 0, 1, 0, 0, 0,\n",
              "       0, 0, 0, 0, 0, 0, 1, 0, 0, 0, 0, 0, 0, 0, 1, 0, 0, 0, 1, 0, 0, 0,\n",
              "       1, 1, 0, 0, 0, 0, 0, 0, 0, 1, 0, 0, 0, 0, 1, 0, 0, 0, 1, 0, 0, 0,\n",
              "       1, 0, 0, 0, 1, 0, 0, 0, 0, 1, 1, 0, 0, 0, 0, 0, 0, 1, 0, 0, 0, 0,\n",
              "       0, 0, 0, 0, 0, 0, 0, 1, 0, 0, 0, 1, 1, 1, 1, 0, 0, 1, 1, 0, 0, 0,\n",
              "       0, 0, 0, 0, 0, 0, 0, 0, 0, 0, 1, 1, 0, 0, 0, 0, 0, 0, 0, 1, 0, 0,\n",
              "       0, 0, 0, 0, 0, 1, 0, 1, 1, 0, 0, 0, 1, 0, 1, 0, 1, 0, 1, 0, 1, 0,\n",
              "       0, 1, 0, 0, 1, 0, 0, 0, 0, 1, 1, 0, 1, 0, 0, 0, 0, 1, 1, 0, 1, 0,\n",
              "       0, 0, 1, 1, 0, 0, 0, 0, 0, 0, 0, 0, 0, 0, 1, 0, 0, 0, 0, 1, 0, 0,\n",
              "       1, 0, 0, 0, 1, 0, 0, 0, 1, 1, 1, 0, 0, 0, 0, 0, 0, 1, 0, 0, 0, 1,\n",
              "       0, 1, 1, 1, 1, 0, 1, 1, 0, 0, 0, 0, 0, 0, 0, 1, 1, 0, 1, 0, 0, 1,\n",
              "       0, 1, 0, 0, 0, 0, 0, 1, 0, 1, 0, 1, 0, 1, 1, 0, 0, 0, 0, 1, 1, 0,\n",
              "       0, 0, 1, 0, 1, 1, 0, 0, 1, 0, 0, 1, 1, 0, 0, 1, 0, 0, 1, 0, 0, 0,\n",
              "       0, 0, 0, 0, 1, 1, 1, 0, 0, 0, 0, 0, 0, 1, 1, 0, 0, 1, 0, 0, 1, 0,\n",
              "       1, 1, 1, 0, 0, 1, 1, 1, 0, 1, 0, 1, 0, 1, 0, 0, 0, 0, 1, 0],\n",
              "      dtype=int64)"
            ]
          },
          "execution_count": 14,
          "metadata": {},
          "output_type": "execute_result"
        }
      ],
      "source": [
        "y"
      ]
    },
    {
      "cell_type": "code",
      "execution_count": 15,
      "metadata": {
        "id": "vjvSNS8PJPwS"
      },
      "outputs": [],
      "source": [
        "# Scaling X into Standard deviation range\n",
        "scalar = StandardScaler()\n",
        "X = scalar.fit_transform(X)"
      ]
    },
    {
      "cell_type": "code",
      "execution_count": 16,
      "metadata": {
        "colab": {
          "base_uri": "https://localhost:8080/"
        },
        "id": "BwJY0ATzJhw4",
        "outputId": "3f4d4304-e7f4-4d0b-9f83-2198e7efb7ae"
      },
      "outputs": [
        {
          "data": {
            "text/plain": [
              "array([[ 0.63994726,  0.84832379,  0.14964075, ...,  0.20401277,\n",
              "         0.46849198,  1.4259954 ],\n",
              "       [-0.84488505, -1.12339636, -0.16054575, ..., -0.68442195,\n",
              "        -0.36506078, -0.19067191],\n",
              "       [ 1.23388019,  1.94372388, -0.26394125, ..., -1.10325546,\n",
              "         0.60439732, -0.10558415],\n",
              "       ...,\n",
              "       [ 0.3429808 ,  0.00330087,  0.14964075, ..., -0.73518964,\n",
              "        -0.68519336, -0.27575966],\n",
              "       [-0.84488505,  0.1597866 , -0.47073225, ..., -0.24020459,\n",
              "        -0.37110101,  1.17073215],\n",
              "       [-0.84488505, -0.8730192 ,  0.04624525, ..., -0.20212881,\n",
              "        -0.47378505, -0.87137393]])"
            ]
          },
          "execution_count": 16,
          "metadata": {},
          "output_type": "execute_result"
        }
      ],
      "source": [
        "X"
      ]
    },
    {
      "cell_type": "markdown",
      "metadata": {
        "id": "cjvqtb8vbub9"
      },
      "source": [
        "### Creating Scalled DataFrame"
      ]
    },
    {
      "cell_type": "code",
      "execution_count": 17,
      "metadata": {
        "colab": {
          "base_uri": "https://localhost:8080/"
        },
        "id": "5ocLFvQrbzDp",
        "outputId": "80e2af6e-b3fb-4c56-8d6d-0af994b178df"
      },
      "outputs": [
        {
          "data": {
            "text/plain": [
              "((768, 8), (768,))"
            ]
          },
          "execution_count": 17,
          "metadata": {},
          "output_type": "execute_result"
        }
      ],
      "source": [
        "X.shape, y.shape"
      ]
    },
    {
      "cell_type": "code",
      "execution_count": 18,
      "metadata": {
        "id": "05ZHI3gpb7MA"
      },
      "outputs": [],
      "source": [
        "data = np.hstack((X, np.reshape(y, (-1, 1))))"
      ]
    },
    {
      "cell_type": "code",
      "execution_count": 19,
      "metadata": {
        "id": "Sp8v6xoHcbjR"
      },
      "outputs": [],
      "source": [
        "scaled_df = pd.DataFrame(data, columns=df.columns)"
      ]
    },
    {
      "cell_type": "code",
      "execution_count": 20,
      "metadata": {
        "colab": {
          "base_uri": "https://localhost:8080/",
          "height": 206
        },
        "id": "s6YTCgxyc37T",
        "outputId": "d4a5001d-1cfc-4543-a561-b1e6c724850c"
      },
      "outputs": [
        {
          "data": {
            "text/html": [
              "<div>\n",
              "<style scoped>\n",
              "    .dataframe tbody tr th:only-of-type {\n",
              "        vertical-align: middle;\n",
              "    }\n",
              "\n",
              "    .dataframe tbody tr th {\n",
              "        vertical-align: top;\n",
              "    }\n",
              "\n",
              "    .dataframe thead th {\n",
              "        text-align: right;\n",
              "    }\n",
              "</style>\n",
              "<table border=\"1\" class=\"dataframe\">\n",
              "  <thead>\n",
              "    <tr style=\"text-align: right;\">\n",
              "      <th></th>\n",
              "      <th>Pregnancies</th>\n",
              "      <th>Glucose</th>\n",
              "      <th>BloodPressure</th>\n",
              "      <th>SkinThickness</th>\n",
              "      <th>Insulin</th>\n",
              "      <th>BMI</th>\n",
              "      <th>DiabetesPedigreeFunction</th>\n",
              "      <th>Age</th>\n",
              "      <th>Outcome</th>\n",
              "    </tr>\n",
              "  </thead>\n",
              "  <tbody>\n",
              "    <tr>\n",
              "      <th>0</th>\n",
              "      <td>0.639947</td>\n",
              "      <td>0.848324</td>\n",
              "      <td>0.149641</td>\n",
              "      <td>0.907270</td>\n",
              "      <td>-0.692891</td>\n",
              "      <td>0.204013</td>\n",
              "      <td>0.468492</td>\n",
              "      <td>1.425995</td>\n",
              "      <td>1.0</td>\n",
              "    </tr>\n",
              "    <tr>\n",
              "      <th>1</th>\n",
              "      <td>-0.844885</td>\n",
              "      <td>-1.123396</td>\n",
              "      <td>-0.160546</td>\n",
              "      <td>0.530902</td>\n",
              "      <td>-0.692891</td>\n",
              "      <td>-0.684422</td>\n",
              "      <td>-0.365061</td>\n",
              "      <td>-0.190672</td>\n",
              "      <td>0.0</td>\n",
              "    </tr>\n",
              "    <tr>\n",
              "      <th>2</th>\n",
              "      <td>1.233880</td>\n",
              "      <td>1.943724</td>\n",
              "      <td>-0.263941</td>\n",
              "      <td>-1.288212</td>\n",
              "      <td>-0.692891</td>\n",
              "      <td>-1.103255</td>\n",
              "      <td>0.604397</td>\n",
              "      <td>-0.105584</td>\n",
              "      <td>1.0</td>\n",
              "    </tr>\n",
              "    <tr>\n",
              "      <th>3</th>\n",
              "      <td>-0.844885</td>\n",
              "      <td>-0.998208</td>\n",
              "      <td>-0.160546</td>\n",
              "      <td>0.154533</td>\n",
              "      <td>0.123302</td>\n",
              "      <td>-0.494043</td>\n",
              "      <td>-0.920763</td>\n",
              "      <td>-1.041549</td>\n",
              "      <td>0.0</td>\n",
              "    </tr>\n",
              "    <tr>\n",
              "      <th>4</th>\n",
              "      <td>-1.141852</td>\n",
              "      <td>0.504055</td>\n",
              "      <td>-1.504687</td>\n",
              "      <td>0.907270</td>\n",
              "      <td>0.765836</td>\n",
              "      <td>1.409746</td>\n",
              "      <td>5.484909</td>\n",
              "      <td>-0.020496</td>\n",
              "      <td>1.0</td>\n",
              "    </tr>\n",
              "  </tbody>\n",
              "</table>\n",
              "</div>"
            ],
            "text/plain": [
              "   Pregnancies   Glucose  BloodPressure  SkinThickness   Insulin       BMI  \\\n",
              "0     0.639947  0.848324       0.149641       0.907270 -0.692891  0.204013   \n",
              "1    -0.844885 -1.123396      -0.160546       0.530902 -0.692891 -0.684422   \n",
              "2     1.233880  1.943724      -0.263941      -1.288212 -0.692891 -1.103255   \n",
              "3    -0.844885 -0.998208      -0.160546       0.154533  0.123302 -0.494043   \n",
              "4    -1.141852  0.504055      -1.504687       0.907270  0.765836  1.409746   \n",
              "\n",
              "   DiabetesPedigreeFunction       Age  Outcome  \n",
              "0                  0.468492  1.425995      1.0  \n",
              "1                 -0.365061 -0.190672      0.0  \n",
              "2                  0.604397 -0.105584      1.0  \n",
              "3                 -0.920763 -1.041549      0.0  \n",
              "4                  5.484909 -0.020496      1.0  "
            ]
          },
          "execution_count": 20,
          "metadata": {},
          "output_type": "execute_result"
        }
      ],
      "source": [
        "scaled_df.head()"
      ]
    },
    {
      "cell_type": "markdown",
      "metadata": {
        "id": "pg5XpxTJeFuu"
      },
      "source": [
        "### ploting Scalled data distribution in standard deviation range"
      ]
    },
    {
      "cell_type": "code",
      "execution_count": 21,
      "metadata": {
        "colab": {
          "base_uri": "https://localhost:8080/",
          "height": 1000
        },
        "id": "KSxuF4AjdpOh",
        "outputId": "29cac726-ea22-4fab-83eb-9a941c4a493b"
      },
      "outputs": [
        {
          "data": {
            "image/png": "[encoded data removed]",
            "text/plain": [
              "<Figure size 432x288 with 1 Axes>"
            ]
          },
          "metadata": {
            "needs_background": "light"
          },
          "output_type": "display_data"
        },
        {
          "data": {
            "image/png": "[encoded data removed]",
            "text/plain": [
              "<Figure size 432x288 with 1 Axes>"
            ]
          },
          "metadata": {
            "needs_background": "light"
          },
          "output_type": "display_data"
        },
        {
          "data": {
            "image/png": "[encoded data removed]",
            "text/plain": [
              "<Figure size 432x288 with 1 Axes>"
            ]
          },
          "metadata": {
            "needs_background": "light"
          },
          "output_type": "display_data"
        },
        {
          "data": {
            "image/png": "[encoded data removed]",
            "text/plain": [
              "<Figure size 432x288 with 1 Axes>"
            ]
          },
          "metadata": {
            "needs_background": "light"
          },
          "output_type": "display_data"
        },
        {
          "data": {
            "image/png": "[encoded data removed]",
            "text/plain": [
              "<Figure size 432x288 with 1 Axes>"
            ]
          },
          "metadata": {
            "needs_background": "light"
          },
          "output_type": "display_data"
        },
        {
          "data": {
            "image/png": "[encoded data removed]",
            "text/plain": [
              "<Figure size 432x288 with 1 Axes>"
            ]
          },
          "metadata": {
            "needs_background": "light"
          },
          "output_type": "display_data"
        },
        {
          "data": {
            "image/png": "[encoded data removed]",
            "text/plain": [
              "<Figure size 432x288 with 1 Axes>"
            ]
          },
          "metadata": {
            "needs_background": "light"
          },
          "output_type": "display_data"
        },
        {
          "data": {
            "image/png": "[encoded data removed]",
            "text/plain": [
              "<Figure size 432x288 with 1 Axes>"
            ]
          },
          "metadata": {
            "needs_background": "light"
          },
          "output_type": "display_data"
        }
      ],
      "source": [
        "for i in range(len(df.columns[:-1])):\n",
        "  label = scaled_df.columns[i]\n",
        "  plt.hist(scaled_df[scaled_df['Outcome']==1][label], color='red', label='Diabetes', alpha=0.8)\n",
        "  plt.hist(scaled_df[scaled_df['Outcome']==0][label], color='yellow', label='No Diabetes', alpha = 0.9)\n",
        "  plt.title(label)\n",
        "  plt.xlabel(label)\n",
        "  plt.ylabel('Probability')\n",
        "  plt.legend()\n",
        "  plt.show()"
      ]
    },
    {
      "cell_type": "markdown",
      "metadata": {
        "id": "VefhGf8Xvt7J"
      },
      "source": [
        "### tf neural net"
      ]
    },
    {
      "cell_type": "code",
      "execution_count": 22,
      "metadata": {
        "id": "sctUzpAbtJ6B"
      },
      "outputs": [],
      "source": [
        "x_train, x_temp, y_train, y_temp = train_test_split(X, y, test_size=0.2, random_state=11)"
      ]
    },
    {
      "cell_type": "code",
      "execution_count": 23,
      "metadata": {
        "id": "QbTAyBj0uvHO"
      },
      "outputs": [],
      "source": [
        "x_val, x_test, y_val, y_test = train_test_split(x_temp, y_temp, test_size=0.5, random_state=0)"
      ]
    },
    {
      "cell_type": "code",
      "execution_count": 24,
      "metadata": {
        "id": "WXa7sxlZvkIu"
      },
      "outputs": [],
      "source": [
        "model = tf.keras.Sequential([\n",
        "                             tf.keras.layers.Dense(16, activation= 'relu'),\n",
        "                             tf.keras.layers.Dense(16, activation = 'relu'),\n",
        "                             tf.keras.layers.Dense(1, activation='sigmoid')\n",
        "])"
      ]
    },
    {
      "cell_type": "code",
      "execution_count": 25,
      "metadata": {
        "id": "vUKdOQdRx4To"
      },
      "outputs": [],
      "source": [
        "model.compile(optimizer=tf.keras.optimizers.Adam(learning_rate=0.001), \n",
        "              loss = tf.keras.losses.BinaryCrossentropy(), \n",
        "              metrics=['accuracy'])"
      ]
    },
    {
      "cell_type": "code",
      "execution_count": 26,
      "metadata": {
        "colab": {
          "base_uri": "https://localhost:8080/"
        },
        "id": "enraiKTGzAzZ",
        "outputId": "62c70ab7-7d1d-4237-e2ca-273d6bf18d67"
      },
      "outputs": [
        {
          "name": "stdout",
          "output_type": "stream",
          "text": [
            "20/20 [==============================] - 2s 4ms/step - loss: 0.6637 - accuracy: 0.6645\n"
          ]
        },
        {
          "data": {
            "text/plain": [
              "[0.663699209690094, 0.6644951105117798]"
            ]
          },
          "execution_count": 26,
          "metadata": {},
          "output_type": "execute_result"
        }
      ],
      "source": [
        "model.evaluate(x_train, y_train)\n",
        "# model.fit(x_train, y_train)"
      ]
    },
    {
      "cell_type": "code",
      "execution_count": 27,
      "metadata": {
        "colab": {
          "base_uri": "https://localhost:8080/"
        },
        "id": "h5ZN9-oSzo6Y",
        "outputId": "f9aac785-c634-43d6-edfa-0de7890f4902"
      },
      "outputs": [
        {
          "name": "stdout",
          "output_type": "stream",
          "text": [
            "Epoch 1/100\n",
            "77/77 [==============================] - 2s 2ms/step - loss: 0.6247 - accuracy: 0.6954 - val_loss: 0.6126 - val_accuracy: 0.5974\n",
            "Epoch 2/100\n",
            "77/77 [==============================] - 0s 1ms/step - loss: 0.5676 - accuracy: 0.7166 - val_loss: 0.5839 - val_accuracy: 0.6494\n",
            "Epoch 3/100\n",
            "77/77 [==============================] - 0s 2ms/step - loss: 0.5336 - accuracy: 0.7378 - val_loss: 0.5628 - val_accuracy: 0.6883\n",
            "Epoch 4/100\n",
            "77/77 [==============================] - 0s 2ms/step - loss: 0.5093 - accuracy: 0.7541 - val_loss: 0.5530 - val_accuracy: 0.6883\n",
            "Epoch 5/100\n",
            "77/77 [==============================] - 0s 2ms/step - loss: 0.4942 - accuracy: 0.7541 - val_loss: 0.5471 - val_accuracy: 0.6623\n",
            "Epoch 6/100\n",
            "77/77 [==============================] - 0s 1ms/step - loss: 0.4806 - accuracy: 0.7704 - val_loss: 0.5471 - val_accuracy: 0.6753\n",
            "Epoch 7/100\n",
            "77/77 [==============================] - 0s 1ms/step - loss: 0.4710 - accuracy: 0.7752 - val_loss: 0.5462 - val_accuracy: 0.7013\n",
            "Epoch 8/100\n",
            "77/77 [==============================] - 0s 1ms/step - loss: 0.4630 - accuracy: 0.7769 - val_loss: 0.5429 - val_accuracy: 0.7013\n",
            "Epoch 9/100\n",
            "77/77 [==============================] - 0s 1ms/step - loss: 0.4580 - accuracy: 0.7785 - val_loss: 0.5423 - val_accuracy: 0.7013\n",
            "Epoch 10/100\n",
            "77/77 [==============================] - 0s 1ms/step - loss: 0.4525 - accuracy: 0.7834 - val_loss: 0.5444 - val_accuracy: 0.7273\n",
            "Epoch 11/100\n",
            "77/77 [==============================] - 0s 1ms/step - loss: 0.4475 - accuracy: 0.7850 - val_loss: 0.5416 - val_accuracy: 0.7273\n",
            "Epoch 12/100\n",
            "77/77 [==============================] - 0s 1ms/step - loss: 0.4440 - accuracy: 0.7883 - val_loss: 0.5481 - val_accuracy: 0.7273\n",
            "Epoch 13/100\n",
            "77/77 [==============================] - 0s 1ms/step - loss: 0.4419 - accuracy: 0.7834 - val_loss: 0.5465 - val_accuracy: 0.7143\n",
            "Epoch 14/100\n",
            "77/77 [==============================] - 0s 2ms/step - loss: 0.4397 - accuracy: 0.7850 - val_loss: 0.5409 - val_accuracy: 0.7143\n",
            "Epoch 15/100\n",
            "77/77 [==============================] - 0s 2ms/step - loss: 0.4363 - accuracy: 0.7899 - val_loss: 0.5496 - val_accuracy: 0.7143\n",
            "Epoch 16/100\n",
            "77/77 [==============================] - 0s 1ms/step - loss: 0.4351 - accuracy: 0.7899 - val_loss: 0.5535 - val_accuracy: 0.7143\n",
            "Epoch 17/100\n",
            "77/77 [==============================] - 0s 1ms/step - loss: 0.4327 - accuracy: 0.7899 - val_loss: 0.5468 - val_accuracy: 0.7143\n",
            "Epoch 18/100\n",
            "77/77 [==============================] - 0s 1ms/step - loss: 0.4313 - accuracy: 0.7915 - val_loss: 0.5444 - val_accuracy: 0.7013\n",
            "Epoch 19/100\n",
            "77/77 [==============================] - 0s 1ms/step - loss: 0.4306 - accuracy: 0.7915 - val_loss: 0.5512 - val_accuracy: 0.7013\n",
            "Epoch 20/100\n",
            "77/77 [==============================] - 0s 2ms/step - loss: 0.4273 - accuracy: 0.7932 - val_loss: 0.5471 - val_accuracy: 0.6883\n",
            "Epoch 21/100\n",
            "77/77 [==============================] - 0s 2ms/step - loss: 0.4270 - accuracy: 0.7850 - val_loss: 0.5648 - val_accuracy: 0.7013\n",
            "Epoch 22/100\n",
            "77/77 [==============================] - 0s 1ms/step - loss: 0.4245 - accuracy: 0.7899 - val_loss: 0.5445 - val_accuracy: 0.7013\n",
            "Epoch 23/100\n",
            "77/77 [==============================] - 0s 2ms/step - loss: 0.4250 - accuracy: 0.7980 - val_loss: 0.5424 - val_accuracy: 0.6883\n",
            "Epoch 24/100\n",
            "77/77 [==============================] - 0s 2ms/step - loss: 0.4207 - accuracy: 0.8029 - val_loss: 0.5553 - val_accuracy: 0.7013\n",
            "Epoch 25/100\n",
            "77/77 [==============================] - 0s 2ms/step - loss: 0.4204 - accuracy: 0.7948 - val_loss: 0.5493 - val_accuracy: 0.7013\n",
            "Epoch 26/100\n",
            "77/77 [==============================] - 0s 2ms/step - loss: 0.4190 - accuracy: 0.8046 - val_loss: 0.5605 - val_accuracy: 0.7013\n",
            "Epoch 27/100\n",
            "77/77 [==============================] - 0s 2ms/step - loss: 0.4171 - accuracy: 0.7980 - val_loss: 0.5484 - val_accuracy: 0.6883\n",
            "Epoch 28/100\n",
            "77/77 [==============================] - 0s 2ms/step - loss: 0.4160 - accuracy: 0.7997 - val_loss: 0.5513 - val_accuracy: 0.6883\n",
            "Epoch 29/100\n",
            "77/77 [==============================] - 0s 2ms/step - loss: 0.4163 - accuracy: 0.8029 - val_loss: 0.5647 - val_accuracy: 0.7013\n",
            "Epoch 30/100\n",
            "77/77 [==============================] - 0s 1ms/step - loss: 0.4126 - accuracy: 0.7964 - val_loss: 0.5454 - val_accuracy: 0.6883\n",
            "Epoch 31/100\n",
            "77/77 [==============================] - 0s 1ms/step - loss: 0.4129 - accuracy: 0.8046 - val_loss: 0.5549 - val_accuracy: 0.6883\n",
            "Epoch 32/100\n",
            "77/77 [==============================] - 0s 1ms/step - loss: 0.4124 - accuracy: 0.7964 - val_loss: 0.5559 - val_accuracy: 0.6883\n",
            "Epoch 33/100\n",
            "77/77 [==============================] - 0s 1ms/step - loss: 0.4104 - accuracy: 0.7980 - val_loss: 0.5433 - val_accuracy: 0.6883\n",
            "Epoch 34/100\n",
            "77/77 [==============================] - 0s 1ms/step - loss: 0.4089 - accuracy: 0.8029 - val_loss: 0.5508 - val_accuracy: 0.6883\n",
            "Epoch 35/100\n",
            "77/77 [==============================] - 0s 1ms/step - loss: 0.4083 - accuracy: 0.7980 - val_loss: 0.5497 - val_accuracy: 0.6883\n",
            "Epoch 36/100\n",
            "77/77 [==============================] - 0s 1ms/step - loss: 0.4069 - accuracy: 0.8029 - val_loss: 0.5556 - val_accuracy: 0.6883\n",
            "Epoch 37/100\n",
            "77/77 [==============================] - 0s 1ms/step - loss: 0.4055 - accuracy: 0.8078 - val_loss: 0.5541 - val_accuracy: 0.6883\n",
            "Epoch 38/100\n",
            "77/77 [==============================] - 0s 1ms/step - loss: 0.4050 - accuracy: 0.8046 - val_loss: 0.5548 - val_accuracy: 0.7013\n",
            "Epoch 39/100\n",
            "77/77 [==============================] - 0s 1ms/step - loss: 0.4042 - accuracy: 0.8046 - val_loss: 0.5633 - val_accuracy: 0.7013\n",
            "Epoch 40/100\n",
            "77/77 [==============================] - 0s 1ms/step - loss: 0.4042 - accuracy: 0.8046 - val_loss: 0.5643 - val_accuracy: 0.6883\n",
            "Epoch 41/100\n",
            "77/77 [==============================] - 0s 1ms/step - loss: 0.4022 - accuracy: 0.8094 - val_loss: 0.5579 - val_accuracy: 0.6883\n",
            "Epoch 42/100\n",
            "77/77 [==============================] - 0s 1ms/step - loss: 0.4006 - accuracy: 0.8143 - val_loss: 0.5519 - val_accuracy: 0.6883\n",
            "Epoch 43/100\n",
            "77/77 [==============================] - 0s 1ms/step - loss: 0.3996 - accuracy: 0.8029 - val_loss: 0.5620 - val_accuracy: 0.6883\n",
            "Epoch 44/100\n",
            "77/77 [==============================] - 0s 1ms/step - loss: 0.3994 - accuracy: 0.8094 - val_loss: 0.5659 - val_accuracy: 0.6883\n",
            "Epoch 45/100\n",
            "77/77 [==============================] - 0s 1ms/step - loss: 0.3988 - accuracy: 0.8111 - val_loss: 0.5726 - val_accuracy: 0.7013\n",
            "Epoch 46/100\n",
            "77/77 [==============================] - 0s 2ms/step - loss: 0.3976 - accuracy: 0.8111 - val_loss: 0.5549 - val_accuracy: 0.6883\n",
            "Epoch 47/100\n",
            "77/77 [==============================] - 0s 2ms/step - loss: 0.3962 - accuracy: 0.8127 - val_loss: 0.5664 - val_accuracy: 0.7013\n",
            "Epoch 48/100\n",
            "77/77 [==============================] - 0s 1ms/step - loss: 0.3957 - accuracy: 0.8094 - val_loss: 0.5727 - val_accuracy: 0.7013\n",
            "Epoch 49/100\n",
            "77/77 [==============================] - 0s 1ms/step - loss: 0.3951 - accuracy: 0.8111 - val_loss: 0.5561 - val_accuracy: 0.6883\n",
            "Epoch 50/100\n",
            "77/77 [==============================] - 0s 2ms/step - loss: 0.3953 - accuracy: 0.8127 - val_loss: 0.5598 - val_accuracy: 0.6883\n",
            "Epoch 51/100\n",
            "77/77 [==============================] - 0s 2ms/step - loss: 0.3953 - accuracy: 0.8078 - val_loss: 0.5648 - val_accuracy: 0.6883\n",
            "Epoch 52/100\n",
            "77/77 [==============================] - 0s 1ms/step - loss: 0.3924 - accuracy: 0.8111 - val_loss: 0.5689 - val_accuracy: 0.6883\n",
            "Epoch 53/100\n",
            "77/77 [==============================] - 0s 1ms/step - loss: 0.3914 - accuracy: 0.8176 - val_loss: 0.5844 - val_accuracy: 0.6753\n",
            "Epoch 54/100\n",
            "77/77 [==============================] - 0s 1ms/step - loss: 0.3926 - accuracy: 0.8192 - val_loss: 0.5755 - val_accuracy: 0.6883\n",
            "Epoch 55/100\n",
            "77/77 [==============================] - 0s 1ms/step - loss: 0.3896 - accuracy: 0.8225 - val_loss: 0.5632 - val_accuracy: 0.7013\n",
            "Epoch 56/100\n",
            "77/77 [==============================] - 0s 1ms/step - loss: 0.3893 - accuracy: 0.8127 - val_loss: 0.5681 - val_accuracy: 0.6883\n",
            "Epoch 57/100\n",
            "77/77 [==============================] - 0s 1ms/step - loss: 0.3880 - accuracy: 0.8176 - val_loss: 0.5752 - val_accuracy: 0.6883\n",
            "Epoch 58/100\n",
            "77/77 [==============================] - 0s 1ms/step - loss: 0.3853 - accuracy: 0.8176 - val_loss: 0.5663 - val_accuracy: 0.6883\n",
            "Epoch 59/100\n",
            "77/77 [==============================] - 0s 1ms/step - loss: 0.3857 - accuracy: 0.8160 - val_loss: 0.5723 - val_accuracy: 0.6883\n",
            "Epoch 60/100\n",
            "77/77 [==============================] - 0s 2ms/step - loss: 0.3859 - accuracy: 0.8274 - val_loss: 0.5711 - val_accuracy: 0.6883\n",
            "Epoch 61/100\n",
            "77/77 [==============================] - 0s 2ms/step - loss: 0.3843 - accuracy: 0.8192 - val_loss: 0.5792 - val_accuracy: 0.6883\n",
            "Epoch 62/100\n",
            "77/77 [==============================] - 0s 1ms/step - loss: 0.3836 - accuracy: 0.8143 - val_loss: 0.5731 - val_accuracy: 0.6883\n",
            "Epoch 63/100\n",
            "77/77 [==============================] - 0s 1ms/step - loss: 0.3803 - accuracy: 0.8257 - val_loss: 0.5680 - val_accuracy: 0.6883\n",
            "Epoch 64/100\n",
            "77/77 [==============================] - 0s 1ms/step - loss: 0.3798 - accuracy: 0.8192 - val_loss: 0.5823 - val_accuracy: 0.6883\n",
            "Epoch 65/100\n",
            "77/77 [==============================] - 0s 2ms/step - loss: 0.3798 - accuracy: 0.8208 - val_loss: 0.5624 - val_accuracy: 0.6883\n",
            "Epoch 66/100\n",
            "77/77 [==============================] - 0s 1ms/step - loss: 0.3794 - accuracy: 0.8160 - val_loss: 0.5726 - val_accuracy: 0.6883\n",
            "Epoch 67/100\n",
            "77/77 [==============================] - 0s 1ms/step - loss: 0.3779 - accuracy: 0.8257 - val_loss: 0.5833 - val_accuracy: 0.6883\n",
            "Epoch 68/100\n",
            "77/77 [==============================] - 0s 1ms/step - loss: 0.3748 - accuracy: 0.8290 - val_loss: 0.5640 - val_accuracy: 0.6883\n",
            "Epoch 69/100\n",
            "77/77 [==============================] - 0s 1ms/step - loss: 0.3760 - accuracy: 0.8225 - val_loss: 0.5624 - val_accuracy: 0.6883\n",
            "Epoch 70/100\n",
            "77/77 [==============================] - 0s 1ms/step - loss: 0.3773 - accuracy: 0.8225 - val_loss: 0.5659 - val_accuracy: 0.6883\n",
            "Epoch 71/100\n",
            "77/77 [==============================] - 0s 1ms/step - loss: 0.3735 - accuracy: 0.8306 - val_loss: 0.5876 - val_accuracy: 0.6883\n",
            "Epoch 72/100\n",
            "77/77 [==============================] - 0s 1ms/step - loss: 0.3740 - accuracy: 0.8257 - val_loss: 0.5873 - val_accuracy: 0.6883\n",
            "Epoch 73/100\n",
            "77/77 [==============================] - 0s 1ms/step - loss: 0.3711 - accuracy: 0.8339 - val_loss: 0.5749 - val_accuracy: 0.6883\n",
            "Epoch 74/100\n",
            "77/77 [==============================] - 0s 1ms/step - loss: 0.3718 - accuracy: 0.8322 - val_loss: 0.5685 - val_accuracy: 0.6883\n",
            "Epoch 75/100\n",
            "77/77 [==============================] - 0s 1ms/step - loss: 0.3705 - accuracy: 0.8290 - val_loss: 0.5839 - val_accuracy: 0.6883\n",
            "Epoch 76/100\n",
            "77/77 [==============================] - 0s 1ms/step - loss: 0.3688 - accuracy: 0.8355 - val_loss: 0.5789 - val_accuracy: 0.6883\n",
            "Epoch 77/100\n",
            "77/77 [==============================] - 0s 1ms/step - loss: 0.3661 - accuracy: 0.8388 - val_loss: 0.5871 - val_accuracy: 0.6883\n",
            "Epoch 78/100\n",
            "77/77 [==============================] - 0s 1ms/step - loss: 0.3663 - accuracy: 0.8290 - val_loss: 0.5691 - val_accuracy: 0.6753\n",
            "Epoch 79/100\n",
            "77/77 [==============================] - 0s 1ms/step - loss: 0.3658 - accuracy: 0.8257 - val_loss: 0.5818 - val_accuracy: 0.6883\n",
            "Epoch 80/100\n",
            "77/77 [==============================] - 0s 2ms/step - loss: 0.3660 - accuracy: 0.8306 - val_loss: 0.6028 - val_accuracy: 0.6623\n",
            "Epoch 81/100\n",
            "77/77 [==============================] - 0s 1ms/step - loss: 0.3661 - accuracy: 0.8306 - val_loss: 0.5839 - val_accuracy: 0.7013\n",
            "Epoch 82/100\n",
            "77/77 [==============================] - 0s 1ms/step - loss: 0.3608 - accuracy: 0.8339 - val_loss: 0.5918 - val_accuracy: 0.6753\n",
            "Epoch 83/100\n",
            "77/77 [==============================] - 0s 1ms/step - loss: 0.3636 - accuracy: 0.8306 - val_loss: 0.6017 - val_accuracy: 0.6623\n",
            "Epoch 84/100\n",
            "77/77 [==============================] - 0s 1ms/step - loss: 0.3594 - accuracy: 0.8404 - val_loss: 0.5825 - val_accuracy: 0.6883\n",
            "Epoch 85/100\n",
            "77/77 [==============================] - 0s 2ms/step - loss: 0.3614 - accuracy: 0.8339 - val_loss: 0.5696 - val_accuracy: 0.6883\n",
            "Epoch 86/100\n",
            "77/77 [==============================] - 0s 1ms/step - loss: 0.3592 - accuracy: 0.8469 - val_loss: 0.5807 - val_accuracy: 0.6883\n",
            "Epoch 87/100\n",
            "77/77 [==============================] - 0s 1ms/step - loss: 0.3585 - accuracy: 0.8453 - val_loss: 0.6018 - val_accuracy: 0.6623\n",
            "Epoch 88/100\n",
            "77/77 [==============================] - 0s 1ms/step - loss: 0.3575 - accuracy: 0.8420 - val_loss: 0.5848 - val_accuracy: 0.6753\n",
            "Epoch 89/100\n",
            "77/77 [==============================] - 0s 1ms/step - loss: 0.3554 - accuracy: 0.8388 - val_loss: 0.5982 - val_accuracy: 0.6753\n",
            "Epoch 90/100\n",
            "77/77 [==============================] - 0s 1ms/step - loss: 0.3540 - accuracy: 0.8420 - val_loss: 0.5928 - val_accuracy: 0.6753\n",
            "Epoch 91/100\n",
            "77/77 [==============================] - 0s 1ms/step - loss: 0.3523 - accuracy: 0.8404 - val_loss: 0.5858 - val_accuracy: 0.6883\n",
            "Epoch 92/100\n",
            "77/77 [==============================] - 0s 2ms/step - loss: 0.3525 - accuracy: 0.8436 - val_loss: 0.6036 - val_accuracy: 0.6883\n",
            "Epoch 93/100\n",
            "77/77 [==============================] - 0s 1ms/step - loss: 0.3522 - accuracy: 0.8453 - val_loss: 0.6156 - val_accuracy: 0.6623\n",
            "Epoch 94/100\n",
            "77/77 [==============================] - 0s 1ms/step - loss: 0.3491 - accuracy: 0.8550 - val_loss: 0.5880 - val_accuracy: 0.6883\n",
            "Epoch 95/100\n",
            "77/77 [==============================] - 0s 1ms/step - loss: 0.3495 - accuracy: 0.8485 - val_loss: 0.6025 - val_accuracy: 0.6623\n",
            "Epoch 96/100\n",
            "77/77 [==============================] - 0s 1ms/step - loss: 0.3481 - accuracy: 0.8485 - val_loss: 0.5898 - val_accuracy: 0.6883\n",
            "Epoch 97/100\n",
            "77/77 [==============================] - 0s 1ms/step - loss: 0.3459 - accuracy: 0.8502 - val_loss: 0.5865 - val_accuracy: 0.6883\n",
            "Epoch 98/100\n",
            "77/77 [==============================] - 0s 1ms/step - loss: 0.3468 - accuracy: 0.8502 - val_loss: 0.6012 - val_accuracy: 0.6753\n",
            "Epoch 99/100\n",
            "77/77 [==============================] - 0s 1ms/step - loss: 0.3439 - accuracy: 0.8567 - val_loss: 0.6004 - val_accuracy: 0.6753\n",
            "Epoch 100/100\n",
            "77/77 [==============================] - 0s 1ms/step - loss: 0.3435 - accuracy: 0.8534 - val_loss: 0.5994 - val_accuracy: 0.6883\n"
          ]
        },
        {
          "data": {
            "text/plain": [
              "<keras.callbacks.History at 0x1e6bfea9dc0>"
            ]
          },
          "execution_count": 27,
          "metadata": {},
          "output_type": "execute_result"
        }
      ],
      "source": [
        "model.fit(x_train, y_train, batch_size=8, epochs=100, validation_data=(x_val, y_val))"
      ]
    },
    {
      "cell_type": "code",
      "execution_count": 28,
      "metadata": {},
      "outputs": [],
      "source": [
        "pred =model.predict(x_test)"
      ]
    },
    {
      "cell_type": "code",
      "execution_count": 29,
      "metadata": {},
      "outputs": [
        {
          "name": "stdout",
          "output_type": "stream",
          "text": [
            "(77, 1) (77,)\n"
          ]
        }
      ],
      "source": [
        "print(pred.shape, y_test.shape)"
      ]
    },
    {
      "cell_type": "code",
      "execution_count": 30,
      "metadata": {},
      "outputs": [],
      "source": [
        "y_test = np.expand_dims(y_test, axis=0)"
      ]
    },
    {
      "cell_type": "code",
      "execution_count": 31,
      "metadata": {},
      "outputs": [],
      "source": [
        "pred = np.expand_dims(pred, axis=0)"
      ]
    },
    {
      "cell_type": "markdown",
      "metadata": {},
      "source": [
        "### Converting NNumpy two dimentional array to one dimetional"
      ]
    },
    {
      "cell_type": "code",
      "execution_count": 32,
      "metadata": {},
      "outputs": [],
      "source": [
        "pred = np.squeeze(pred)"
      ]
    },
    {
      "cell_type": "code",
      "execution_count": 33,
      "metadata": {},
      "outputs": [
        {
          "name": "stdout",
          "output_type": "stream",
          "text": [
            "(77,) (1, 77)\n"
          ]
        }
      ],
      "source": [
        "print(pred.shape, y_test.shape)"
      ]
    },
    {
      "cell_type": "code",
      "execution_count": 34,
      "metadata": {},
      "outputs": [
        {
          "data": {
            "text/plain": [
              "array([[0, 1, 0, 1, 0, 0, 0, 0, 1, 0, 1, 0, 0, 0, 0, 0, 0, 0, 1, 0, 0, 0,\n",
              "        0, 1, 0, 0, 0, 0, 0, 1, 0, 1, 0, 1, 1, 0, 1, 0, 0, 0, 0, 0, 0, 1,\n",
              "        0, 1, 0, 0, 0, 0, 0, 0, 1, 0, 0, 0, 1, 1, 0, 0, 0, 1, 0, 0, 1, 0,\n",
              "        0, 1, 0, 0, 0, 0, 1, 1, 0, 1, 0]], dtype=int64)"
            ]
          },
          "execution_count": 34,
          "metadata": {},
          "output_type": "execute_result"
        }
      ],
      "source": [
        "# pred\n",
        "y_test"
      ]
    },
    {
      "cell_type": "code",
      "execution_count": 35,
      "metadata": {},
      "outputs": [],
      "source": [
        "y_test = y_test.astype(int)"
      ]
    },
    {
      "cell_type": "code",
      "execution_count": 36,
      "metadata": {},
      "outputs": [
        {
          "data": {
            "text/plain": [
              "array([[0, 1, 0, 1, 0, 0, 0, 0, 1, 0, 1, 0, 0, 0, 0, 0, 0, 0, 1, 0, 0, 0,\n",
              "        0, 1, 0, 0, 0, 0, 0, 1, 0, 1, 0, 1, 1, 0, 1, 0, 0, 0, 0, 0, 0, 1,\n",
              "        0, 1, 0, 0, 0, 0, 0, 0, 1, 0, 0, 0, 1, 1, 0, 0, 0, 1, 0, 0, 1, 0,\n",
              "        0, 1, 0, 0, 0, 0, 1, 1, 0, 1, 0]])"
            ]
          },
          "execution_count": 36,
          "metadata": {},
          "output_type": "execute_result"
        }
      ],
      "source": [
        "y_test"
      ]
    },
    {
      "cell_type": "code",
      "execution_count": 37,
      "metadata": {},
      "outputs": [
        {
          "data": {
            "text/plain": [
              "array([0.00828803, 0.82313263, 0.36038506, 0.26705748, 0.26960394,\n",
              "       0.08020091, 0.093072  , 0.297287  , 0.01453862, 0.11739472,\n",
              "       0.78442764, 0.00805056, 0.0466381 , 0.0163182 , 0.01097336,\n",
              "       0.10438982, 0.01745623, 0.4857557 , 0.87243986, 0.00771552,\n",
              "       0.81023693, 0.3045416 , 0.47129935, 0.46859646, 0.22393733,\n",
              "       0.74476135, 0.14459923, 0.10184723, 0.15377551, 0.13866267,\n",
              "       0.15350911, 0.9633641 , 0.5278729 , 0.581449  , 0.29691723,\n",
              "       0.00267291, 0.0038802 , 0.34070322, 0.07422635, 0.00467771,\n",
              "       0.84195614, 0.16069984, 0.56309235, 0.90508294, 0.00557625,\n",
              "       0.94086254, 0.01152146, 0.01975226, 0.01452091, 0.00986221,\n",
              "       0.00666645, 0.20363522, 0.7196103 , 0.00574642, 0.07472414,\n",
              "       0.13648114, 0.7514651 , 0.32119194, 0.00428528, 0.02037677,\n",
              "       0.5229499 , 0.81896216, 0.02484858, 0.03388467, 0.98818064,\n",
              "       0.617926  , 0.08585066, 0.33858007, 0.81909263, 0.08915073,\n",
              "       0.08963898, 0.04904881, 0.24954683, 0.9443144 , 0.08761409,\n",
              "       0.75198627, 0.22735325], dtype=float32)"
            ]
          },
          "execution_count": 37,
          "metadata": {},
          "output_type": "execute_result"
        }
      ],
      "source": [
        "pred"
      ]
    },
    {
      "cell_type": "code",
      "execution_count": 38,
      "metadata": {},
      "outputs": [],
      "source": [
        "pred = pred.astype(int)"
      ]
    },
    {
      "cell_type": "code",
      "execution_count": 39,
      "metadata": {},
      "outputs": [
        {
          "data": {
            "text/plain": [
              "array([0, 0, 0, 0, 0, 0, 0, 0, 0, 0, 0, 0, 0, 0, 0, 0, 0, 0, 0, 0, 0, 0,\n",
              "       0, 0, 0, 0, 0, 0, 0, 0, 0, 0, 0, 0, 0, 0, 0, 0, 0, 0, 0, 0, 0, 0,\n",
              "       0, 0, 0, 0, 0, 0, 0, 0, 0, 0, 0, 0, 0, 0, 0, 0, 0, 0, 0, 0, 0, 0,\n",
              "       0, 0, 0, 0, 0, 0, 0, 0, 0, 0, 0])"
            ]
          },
          "execution_count": 39,
          "metadata": {},
          "output_type": "execute_result"
        }
      ],
      "source": [
        "pred"
      ]
    },
    {
      "cell_type": "code",
      "execution_count": 40,
      "metadata": {
        "colab": {
          "base_uri": "https://localhost:8080/"
        },
        "id": "9N9QIcN6HQ7I",
        "outputId": "c1942d42-28d0-4882-82db-8cbc121c8058"
      },
      "outputs": [
        {
          "ename": "ValueError",
          "evalue": "Data cardinality is ambiguous:\n  x sizes: 77\n  y sizes: 1\nMake sure all arrays contain the same number of samples.",
          "output_type": "error",
          "traceback": [
            "\u001b[1;31m---------------------------------------------------------------------------\u001b[0m",
            "\u001b[1;31mValueError\u001b[0m                                Traceback (most recent call last)",
            "\u001b[1;32m<ipython-input-40-d5f7b36966e1>\u001b[0m in \u001b[0;36m<module>\u001b[1;34m\u001b[0m\n\u001b[1;32m----> 1\u001b[1;33m \u001b[0mmodel\u001b[0m\u001b[1;33m.\u001b[0m\u001b[0mevaluate\u001b[0m\u001b[1;33m(\u001b[0m\u001b[0mpred\u001b[0m\u001b[1;33m,\u001b[0m \u001b[0my_test\u001b[0m\u001b[1;33m)\u001b[0m\u001b[1;33m\u001b[0m\u001b[1;33m\u001b[0m\u001b[0m\n\u001b[0m",
            "\u001b[1;32mc:\\Python38\\lib\\site-packages\\keras\\engine\\training.py\u001b[0m in \u001b[0;36mevaluate\u001b[1;34m(self, x, y, batch_size, verbose, sample_weight, steps, callbacks, max_queue_size, workers, use_multiprocessing, return_dict, **kwargs)\u001b[0m\n\u001b[0;32m   1464\u001b[0m       \u001b[1;32melse\u001b[0m\u001b[1;33m:\u001b[0m\u001b[1;33m\u001b[0m\u001b[1;33m\u001b[0m\u001b[0m\n\u001b[0;32m   1465\u001b[0m         \u001b[1;31m# Creates a `tf.data.Dataset` and handles batch and epoch iteration.\u001b[0m\u001b[1;33m\u001b[0m\u001b[1;33m\u001b[0m\u001b[1;33m\u001b[0m\u001b[0m\n\u001b[1;32m-> 1466\u001b[1;33m         data_handler = data_adapter.get_data_handler(\n\u001b[0m\u001b[0;32m   1467\u001b[0m             \u001b[0mx\u001b[0m\u001b[1;33m=\u001b[0m\u001b[0mx\u001b[0m\u001b[1;33m,\u001b[0m\u001b[1;33m\u001b[0m\u001b[1;33m\u001b[0m\u001b[0m\n\u001b[0;32m   1468\u001b[0m             \u001b[0my\u001b[0m\u001b[1;33m=\u001b[0m\u001b[0my\u001b[0m\u001b[1;33m,\u001b[0m\u001b[1;33m\u001b[0m\u001b[1;33m\u001b[0m\u001b[0m\n",
            "\u001b[1;32mc:\\Python38\\lib\\site-packages\\keras\\engine\\data_adapter.py\u001b[0m in \u001b[0;36mget_data_handler\u001b[1;34m(*args, **kwargs)\u001b[0m\n\u001b[0;32m   1381\u001b[0m   \u001b[1;32mif\u001b[0m \u001b[0mgetattr\u001b[0m\u001b[1;33m(\u001b[0m\u001b[0mkwargs\u001b[0m\u001b[1;33m[\u001b[0m\u001b[1;34m\"model\"\u001b[0m\u001b[1;33m]\u001b[0m\u001b[1;33m,\u001b[0m \u001b[1;34m\"_cluster_coordinator\"\u001b[0m\u001b[1;33m,\u001b[0m \u001b[1;32mNone\u001b[0m\u001b[1;33m)\u001b[0m\u001b[1;33m:\u001b[0m\u001b[1;33m\u001b[0m\u001b[1;33m\u001b[0m\u001b[0m\n\u001b[0;32m   1382\u001b[0m     \u001b[1;32mreturn\u001b[0m \u001b[0m_ClusterCoordinatorDataHandler\u001b[0m\u001b[1;33m(\u001b[0m\u001b[1;33m*\u001b[0m\u001b[0margs\u001b[0m\u001b[1;33m,\u001b[0m \u001b[1;33m**\u001b[0m\u001b[0mkwargs\u001b[0m\u001b[1;33m)\u001b[0m\u001b[1;33m\u001b[0m\u001b[1;33m\u001b[0m\u001b[0m\n\u001b[1;32m-> 1383\u001b[1;33m   \u001b[1;32mreturn\u001b[0m \u001b[0mDataHandler\u001b[0m\u001b[1;33m(\u001b[0m\u001b[1;33m*\u001b[0m\u001b[0margs\u001b[0m\u001b[1;33m,\u001b[0m \u001b[1;33m**\u001b[0m\u001b[0mkwargs\u001b[0m\u001b[1;33m)\u001b[0m\u001b[1;33m\u001b[0m\u001b[1;33m\u001b[0m\u001b[0m\n\u001b[0m\u001b[0;32m   1384\u001b[0m \u001b[1;33m\u001b[0m\u001b[0m\n\u001b[0;32m   1385\u001b[0m \u001b[1;33m\u001b[0m\u001b[0m\n",
            "\u001b[1;32mc:\\Python38\\lib\\site-packages\\keras\\engine\\data_adapter.py\u001b[0m in \u001b[0;36m__init__\u001b[1;34m(self, x, y, sample_weight, batch_size, steps_per_epoch, initial_epoch, epochs, shuffle, class_weight, max_queue_size, workers, use_multiprocessing, model, steps_per_execution, distribute)\u001b[0m\n\u001b[0;32m   1136\u001b[0m \u001b[1;33m\u001b[0m\u001b[0m\n\u001b[0;32m   1137\u001b[0m     \u001b[0madapter_cls\u001b[0m \u001b[1;33m=\u001b[0m \u001b[0mselect_data_adapter\u001b[0m\u001b[1;33m(\u001b[0m\u001b[0mx\u001b[0m\u001b[1;33m,\u001b[0m \u001b[0my\u001b[0m\u001b[1;33m)\u001b[0m\u001b[1;33m\u001b[0m\u001b[1;33m\u001b[0m\u001b[0m\n\u001b[1;32m-> 1138\u001b[1;33m     self._adapter = adapter_cls(\n\u001b[0m\u001b[0;32m   1139\u001b[0m         \u001b[0mx\u001b[0m\u001b[1;33m,\u001b[0m\u001b[1;33m\u001b[0m\u001b[1;33m\u001b[0m\u001b[0m\n\u001b[0;32m   1140\u001b[0m         \u001b[0my\u001b[0m\u001b[1;33m,\u001b[0m\u001b[1;33m\u001b[0m\u001b[1;33m\u001b[0m\u001b[0m\n",
            "\u001b[1;32mc:\\Python38\\lib\\site-packages\\keras\\engine\\data_adapter.py\u001b[0m in \u001b[0;36m__init__\u001b[1;34m(self, x, y, sample_weights, sample_weight_modes, batch_size, epochs, steps, shuffle, **kwargs)\u001b[0m\n\u001b[0;32m    239\u001b[0m \u001b[1;33m\u001b[0m\u001b[0m\n\u001b[0;32m    240\u001b[0m     \u001b[0mnum_samples\u001b[0m \u001b[1;33m=\u001b[0m \u001b[0mset\u001b[0m\u001b[1;33m(\u001b[0m\u001b[0mint\u001b[0m\u001b[1;33m(\u001b[0m\u001b[0mi\u001b[0m\u001b[1;33m.\u001b[0m\u001b[0mshape\u001b[0m\u001b[1;33m[\u001b[0m\u001b[1;36m0\u001b[0m\u001b[1;33m]\u001b[0m\u001b[1;33m)\u001b[0m \u001b[1;32mfor\u001b[0m \u001b[0mi\u001b[0m \u001b[1;32min\u001b[0m \u001b[0mtf\u001b[0m\u001b[1;33m.\u001b[0m\u001b[0mnest\u001b[0m\u001b[1;33m.\u001b[0m\u001b[0mflatten\u001b[0m\u001b[1;33m(\u001b[0m\u001b[0minputs\u001b[0m\u001b[1;33m)\u001b[0m\u001b[1;33m)\u001b[0m\u001b[1;33m.\u001b[0m\u001b[0mpop\u001b[0m\u001b[1;33m(\u001b[0m\u001b[1;33m)\u001b[0m\u001b[1;33m\u001b[0m\u001b[1;33m\u001b[0m\u001b[0m\n\u001b[1;32m--> 241\u001b[1;33m     \u001b[0m_check_data_cardinality\u001b[0m\u001b[1;33m(\u001b[0m\u001b[0minputs\u001b[0m\u001b[1;33m)\u001b[0m\u001b[1;33m\u001b[0m\u001b[1;33m\u001b[0m\u001b[0m\n\u001b[0m\u001b[0;32m    242\u001b[0m \u001b[1;33m\u001b[0m\u001b[0m\n\u001b[0;32m    243\u001b[0m     \u001b[1;31m# If batch_size is not passed but steps is, calculate from the input data.\u001b[0m\u001b[1;33m\u001b[0m\u001b[1;33m\u001b[0m\u001b[1;33m\u001b[0m\u001b[0m\n",
            "\u001b[1;32mc:\\Python38\\lib\\site-packages\\keras\\engine\\data_adapter.py\u001b[0m in \u001b[0;36m_check_data_cardinality\u001b[1;34m(data)\u001b[0m\n\u001b[0;32m   1647\u001b[0m           label, \", \".join(str(i.shape[0]) for i in tf.nest.flatten(single_data)))\n\u001b[0;32m   1648\u001b[0m     \u001b[0mmsg\u001b[0m \u001b[1;33m+=\u001b[0m \u001b[1;34m\"Make sure all arrays contain the same number of samples.\"\u001b[0m\u001b[1;33m\u001b[0m\u001b[1;33m\u001b[0m\u001b[0m\n\u001b[1;32m-> 1649\u001b[1;33m     \u001b[1;32mraise\u001b[0m \u001b[0mValueError\u001b[0m\u001b[1;33m(\u001b[0m\u001b[0mmsg\u001b[0m\u001b[1;33m)\u001b[0m\u001b[1;33m\u001b[0m\u001b[1;33m\u001b[0m\u001b[0m\n\u001b[0m\u001b[0;32m   1650\u001b[0m \u001b[1;33m\u001b[0m\u001b[0m\n\u001b[0;32m   1651\u001b[0m \u001b[1;33m\u001b[0m\u001b[0m\n",
            "\u001b[1;31mValueError\u001b[0m: Data cardinality is ambiguous:\n  x sizes: 77\n  y sizes: 1\nMake sure all arrays contain the same number of samples."
          ]
        }
      ],
      "source": [
        "model.evaluate(pred, y_test)"
      ]
    },
    {
      "cell_type": "code",
      "execution_count": null,
      "metadata": {},
      "outputs": [
        {
          "data": {
            "text/plain": [
              "(116, 8)"
            ]
          },
          "execution_count": 69,
          "metadata": {},
          "output_type": "execute_result"
        }
      ],
      "source": [
        "#model.predict(x_test[5])\n",
        "# x_test[1]\n",
        "x_test.shape"
      ]
    },
    {
      "cell_type": "code",
      "execution_count": null,
      "metadata": {
        "colab": {
          "base_uri": "https://localhost:8080/"
        },
        "id": "Ua8FWX2cM0SY",
        "outputId": "0e664888-23e5-480a-9ca7-d05474e324c7"
      },
      "outputs": [
        {
          "name": "stdout",
          "output_type": "stream",
          "text": [
            "Model: \"sequential\"\n",
            "_________________________________________________________________\n",
            "Layer (type)                 Output Shape              Param #   \n",
            "=================================================================\n",
            "dense (Dense)                (None, 16)                144       \n",
            "_________________________________________________________________\n",
            "dense_1 (Dense)              (None, 16)                272       \n",
            "_________________________________________________________________\n",
            "dense_2 (Dense)              (None, 1)                 17        \n",
            "=================================================================\n",
            "Total params: 433\n",
            "Trainable params: 433\n",
            "Non-trainable params: 0\n",
            "_________________________________________________________________\n"
          ]
        }
      ],
      "source": [
        "model.summary()"
      ]
    },
    {
      "cell_type": "markdown",
      "metadata": {
        "id": "Lq9T0SJFUJJO"
      },
      "source": [
        "### Save the trained model"
      ]
    },
    {
      "cell_type": "code",
      "execution_count": null,
      "metadata": {
        "id": "0I0_x1TCNWI1"
      },
      "outputs": [],
      "source": [
        "model.save(\"diabetes_dnnmodel2.h5\")"
      ]
    },
    {
      "cell_type": "markdown",
      "metadata": {
        "id": "Oz9D8SVda2tS"
      },
      "source": [
        "### Load the trained Model"
      ]
    },
    {
      "cell_type": "code",
      "execution_count": null,
      "metadata": {
        "id": "ePZEdqLeTfea"
      },
      "outputs": [],
      "source": [
        "new_model = tf.keras.models.load_model(\"diabetes_dnnmodel2.h5\")"
      ]
    },
    {
      "cell_type": "code",
      "execution_count": null,
      "metadata": {
        "colab": {
          "base_uri": "https://localhost:8080/"
        },
        "id": "r-meHo8TUoEB",
        "outputId": "e8bfcfab-3979-4032-8f22-325b01d34f41"
      },
      "outputs": [
        {
          "name": "stdout",
          "output_type": "stream",
          "text": [
            "4/4 - 0s - loss: 0.4851 - accuracy: 0.7931\n"
          ]
        }
      ],
      "source": [
        "evlr = new_model.evaluate(x_test, y_test, verbose=2)"
      ]
    },
    {
      "cell_type": "code",
      "execution_count": null,
      "metadata": {},
      "outputs": [
        {
          "data": {
            "text/plain": [
              "0.7931034564971924"
            ]
          },
          "execution_count": 62,
          "metadata": {},
          "output_type": "execute_result"
        }
      ],
      "source": [
        "evlr[1]"
      ]
    },
    {
      "cell_type": "code",
      "execution_count": null,
      "metadata": {
        "id": "kdd40TstU1cH"
      },
      "outputs": [
        {
          "data": {
            "text/plain": [
              "array([[0],\n",
              "       [0],\n",
              "       [0],\n",
              "       [0],\n",
              "       [0],\n",
              "       [0],\n",
              "       [0],\n",
              "       [0],\n",
              "       [0],\n",
              "       [0],\n",
              "       [0],\n",
              "       [0],\n",
              "       [0],\n",
              "       [0],\n",
              "       [0],\n",
              "       [0],\n",
              "       [0],\n",
              "       [0],\n",
              "       [0],\n",
              "       [0],\n",
              "       [0],\n",
              "       [0],\n",
              "       [0],\n",
              "       [0]])"
            ]
          },
          "execution_count": 68,
          "metadata": {},
          "output_type": "execute_result"
        }
      ],
      "source": [
        "pred = new_model.predict(x_test[5:29])\n",
        "# new_model = new_model.astype(int)\n",
        "pred.dtype\n",
        "pred = pred.astype(int)\n",
        "pred"
      ]
    }
  ],
  "metadata": {
    "colab": {
      "authorship_tag": "ABX9TyOvT0w8J93j/X9vP5sRlhHr",
      "include_colab_link": true,
      "name": "diabetes-prediction-tf-neuralnet.ipynb",
      "provenance": []
    },
    "kernelspec": {
      "display_name": "Python 3.8.3 64-bit",
      "language": "python",
      "name": "python3"
    },
    "language_info": {
      "codemirror_mode": {
        "name": "ipython",
        "version": 3
      },
      "file_extension": ".py",
      "mimetype": "text/x-python",
      "name": "python",
      "nbconvert_exporter": "python",
      "pygments_lexer": "ipython3",
      "version": "3.8.3"
    },
    "vscode": {
      "interpreter": {
        "hash": "9650cb4e16cdd4a8e8e2d128bf38d875813998db22a3c986335f89e0cb4d7bb2"
      }
    }
  },
  "nbformat": 4,
  "nbformat_minor": 0
}
